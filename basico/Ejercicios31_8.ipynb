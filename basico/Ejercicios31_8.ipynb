{
 "cells": [
  {
   "cell_type": "markdown",
   "metadata": {},
   "source": [
    "##Ejercicio 1\n",
    "Escriba un programa en Python para construir el siguiente patrón, usando un bucle for anidado.\n",
    "\n",
    "* \n",
    "* * \n",
    "* * * * \n",
    "* * * * * \n",
    "* * * * * \n",
    "* * * \n",
    "* * \n",
    "* * \n",
    "*"
   ]
  },
  {
   "cell_type": "code",
   "execution_count": 8,
   "metadata": {},
   "outputs": [
    {
     "name": "stdout",
     "output_type": "stream",
     "text": [
      " \n",
      "*  \n",
      "* *  \n",
      "* * *  \n",
      "* * * *  \n",
      "* * * * *  \n",
      "* * * *  \n",
      "* * *  \n",
      "* *  \n",
      "*  \n"
     ]
    }
   ],
   "source": [
    "n= 5\n",
    "\n",
    "for i in range(n):\n",
    "    for j in range(i):\n",
    "        print('*', end = \" \")\n",
    "    print( ' ')\n",
    "\n",
    "for i in range(n, 0, -1):\n",
    "    for j in range(i):\n",
    "        print('*', end= \" \")\n",
    "    print( ' ')\n",
    "\n"
   ]
  },
  {
   "cell_type": "markdown",
   "metadata": {},
   "source": [
    "## 6.\n",
    "Escriba un programa en Python para contar la cantidad de números pares e impares de una serie de números."
   ]
  },
  {
   "cell_type": "code",
   "execution_count": 1,
   "metadata": {},
   "outputs": [
    {
     "name": "stdout",
     "output_type": "stream",
     "text": [
      "Number of even numbers : 4\n",
      "Number of odd numbers : 5\n"
     ]
    }
   ],
   "source": [
    "numbers = (1, 2, 3, 4, 5, 6, 7, 8, 9) # Declaring the tuple\n",
    "count_odd = 0\n",
    "count_even = 0\n",
    "for x in numbers:\n",
    "        if not x % 2:\n",
    "    \t     count_even+=1\n",
    "        else:\n",
    "    \t     count_odd+=1\n",
    "print(\"Number of even numbers :\",count_even)\n",
    "print(\"Number of odd numbers :\",count_odd)"
   ]
  },
  {
   "cell_type": "markdown",
   "metadata": {},
   "source": [
    "## 7. \n",
    "Escriba un programa en Python que imprima cada elemento y su tipo correspondiente de la siguiente lista.\n",
    "Lista de muestras : lista de datos = [1452, 11.23, 1+2j, True, 'w3resource', (0, -1), [5, 12], {\"clase\":'V', \"sección\":'A'} ]"
   ]
  },
  {
   "cell_type": "code",
   "execution_count": 2,
   "metadata": {},
   "outputs": [
    {
     "name": "stdout",
     "output_type": "stream",
     "text": [
      "Type of  1452  is  <class 'int'>\n",
      "Type of  11.23  is  <class 'float'>\n",
      "Type of  (1+2j)  is  <class 'complex'>\n",
      "Type of  True  is  <class 'bool'>\n",
      "Type of  w3resource  is  <class 'str'>\n",
      "Type of  (0, -1)  is  <class 'tuple'>\n",
      "Type of  [5, 12]  is  <class 'list'>\n",
      "Type of  {'clase': 'V', 'sección': 'A'}  is  <class 'dict'>\n"
     ]
    }
   ],
   "source": [
    "lista = [1452, 11.23, 1+2j, True, 'w3resource', (0, -1), [5, 12], {\"clase\":'V', \"sección\":'A'} ]\n",
    "for item in lista:\n",
    "    print(\"Type of \",item, \" is \", type(item))"
   ]
  },
  {
   "cell_type": "markdown",
   "metadata": {},
   "source": []
  }
 ],
 "metadata": {
  "kernelspec": {
   "display_name": "Python 3.9.13 64-bit",
   "language": "python",
   "name": "python3"
  },
  "language_info": {
   "codemirror_mode": {
    "name": "ipython",
    "version": 3
   },
   "file_extension": ".py",
   "mimetype": "text/x-python",
   "name": "python",
   "nbconvert_exporter": "python",
   "pygments_lexer": "ipython3",
   "version": "3.9.13"
  },
  "orig_nbformat": 4,
  "vscode": {
   "interpreter": {
    "hash": "2f97a478355977c7bb22e80a74f83ba9f29e00bf7c27701a2bf465a660724b7b"
   }
  }
 },
 "nbformat": 4,
 "nbformat_minor": 2
}
