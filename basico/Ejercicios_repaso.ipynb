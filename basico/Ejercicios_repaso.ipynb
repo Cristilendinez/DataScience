{
 "cells": [
  {
   "cell_type": "markdown",
   "metadata": {},
   "source": [
    "## Ejercicio 1\n",
    "\n",
    "Escribir un programa que pida al usuario una palabra y la muestre por pantalla 10 veces."
   ]
  },
  {
   "cell_type": "code",
   "execution_count": 2,
   "metadata": {},
   "outputs": [
    {
     "name": "stdout",
     "output_type": "stream",
     "text": [
      "Murcia\n",
      "Murcia\n",
      "Murcia\n",
      "Murcia\n",
      "Murcia\n",
      "Murcia\n",
      "Murcia\n",
      "Murcia\n",
      "Murcia\n"
     ]
    }
   ],
   "source": [
    "palabra= 1\n",
    "while palabra <10:\n",
    "    print(\"Murcia\")\n",
    "    palabra+=1"
   ]
  },
  {
   "cell_type": "markdown",
   "metadata": {},
   "source": [
    "## ejercicio\n",
    "\n",
    "Vamos a recorrer un string dado con un bucle for y lo vamos a devolver impreso al reves"
   ]
  },
  {
   "cell_type": "code",
   "execution_count": 8,
   "metadata": {},
   "outputs": [
    {
     "name": "stdout",
     "output_type": "stream",
     "text": [
      "rof selcub sol rednetne ed onimret on \n"
     ]
    }
   ],
   "source": [
    "s= \"no termino de entender los bucles for\"\n",
    "s_inv= \" \"\n",
    "\n",
    "for c in s:\n",
    "    s_inv = c + s_inv\n",
    "print(s_inv)"
   ]
  },
  {
   "cell_type": "markdown",
   "metadata": {},
   "source": [
    "## Ejercicio 2\n",
    "Escribir un programa que pregunte al usuario su edad y muestre por pantalla todos los años que ha cumplido (desde 1 hasta su edad)."
   ]
  },
  {
   "cell_type": "code",
   "execution_count": null,
   "metadata": {},
   "outputs": [],
   "source": [
    "edad= int(input(\"Dime cuantos años tienes: \"))\n"
   ]
  }
 ],
 "metadata": {
  "kernelspec": {
   "display_name": "Python 3.9.13 64-bit",
   "language": "python",
   "name": "python3"
  },
  "language_info": {
   "codemirror_mode": {
    "name": "ipython",
    "version": 3
   },
   "file_extension": ".py",
   "mimetype": "text/x-python",
   "name": "python",
   "nbconvert_exporter": "python",
   "pygments_lexer": "ipython3",
   "version": "3.9.13"
  },
  "orig_nbformat": 4,
  "vscode": {
   "interpreter": {
    "hash": "2f97a478355977c7bb22e80a74f83ba9f29e00bf7c27701a2bf465a660724b7b"
   }
  }
 },
 "nbformat": 4,
 "nbformat_minor": 2
}
