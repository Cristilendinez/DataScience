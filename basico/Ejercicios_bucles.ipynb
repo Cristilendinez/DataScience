{
 "cells": [
  {
   "cell_type": "markdown",
   "metadata": {},
   "source": [
    "## Ejercicio \n",
    "\n",
    " Con un bucle while, dado un string vamos a recorrer una frase y contar el numero de vocales que tiene"
   ]
  },
  {
   "cell_type": "code",
   "execution_count": 4,
   "metadata": {},
   "outputs": [
    {
     "name": "stdout",
     "output_type": "stream",
     "text": [
      "En total hay 8 vocales\n"
     ]
    }
   ],
   "source": [
    "frase= \"La vaca hace muuu\"\n",
    "\n",
    "i = 0\n",
    "count= 0\n",
    "while i < len(frase):\n",
    "    if frase[i]== 'a' or frase[i]=='e' or frase[i]== 'i' or frase[i] == 'o' or frase[i] =='u':\n",
    "        count +=1\n",
    "    i +=1\n",
    "print(\"En total hay\", count, \"vocales\")"
   ]
  },
  {
   "cell_type": "markdown",
   "metadata": {},
   "source": [
    "## Ejercicio\n",
    "\n",
    "La sucesión de Fibonacci es una sucesión infinita que se caracteriza porque cada término es la suma de los dos anteriores. Algunos de sus términos son 1, 1, 2, 3, 5, 8, 13...\n",
    "\n",
    "Supongamos que queremos que se nos impriman los 20 primeros términos de esta serie. Por tanto, necesitaremos por un lado los términos de la serie y, por otro, los índices que ocupan."
   ]
  },
  {
   "cell_type": "code",
   "execution_count": 8,
   "metadata": {},
   "outputs": [
    {
     "name": "stdout",
     "output_type": "stream",
     "text": [
      "El termino 1 ocupa la posicion 1\n",
      "El termino 1 ocupa la posicion 2\n",
      "El termino 2 ocupa la posicion 3\n",
      "El termino 3 ocupa la posicion 4\n",
      "El termino 5 ocupa la posicion 5\n",
      "El termino 8 ocupa la posicion 6\n",
      "El termino 13 ocupa la posicion 7\n",
      "El termino 21 ocupa la posicion 8\n",
      "El termino 34 ocupa la posicion 9\n",
      "El termino 55 ocupa la posicion 10\n",
      "El termino 89 ocupa la posicion 11\n",
      "El termino 144 ocupa la posicion 12\n",
      "El termino 233 ocupa la posicion 13\n",
      "El termino 377 ocupa la posicion 14\n",
      "El termino 610 ocupa la posicion 15\n",
      "El termino 987 ocupa la posicion 16\n",
      "El termino 1597 ocupa la posicion 17\n",
      "El termino 2584 ocupa la posicion 18\n",
      "El termino 4181 ocupa la posicion 19\n",
      "El termino 6765 ocupa la posicion 20\n"
     ]
    }
   ],
   "source": [
    "fibo_ant= 1 # numero anterior\n",
    "fibo =1 #numero actual\n",
    "idx= 3# como ya tenemos los dos primeros terminos, empezamos con el indice 3 que tine un valor de 3\n",
    "\n",
    "print(\"El termino {} ocupa la posicion {}\".format(fibo_ant, 1))\n",
    "print(\"El termino {} ocupa la posicion {}\".format(fibo, 2))\n",
    "\n",
    "while fibo <=200000:#Establecemos un valor y elijo 2000000\n",
    "    temp=fibo#pongo una variable temporal ya que el valor 2 sera sustituido por los nuevos valores\n",
    "    fibo= fibo + fibo_ant#Calculamos el nuevo termino de la sucesion\n",
    "    fibo_ant= temp # Modificamos el valor del termino anterior\n",
    "\n",
    "    print(\"El termino {} ocupa la posicion {}\".format(fibo, idx))\n",
    "    if idx==20:# si llegamos al indice 20\n",
    "        break #Salimos del bucle\n",
    "\n",
    "    idx+=1\n"
   ]
  },
  {
   "cell_type": "markdown",
   "metadata": {},
   "source": [
    "## Ejercicio\n",
    "Con un bucle while, dados dos números enteros proporcionados por el usuario, vamos a encontrar el primer número divisible entre 2, 3 y 5, siempre que sea posible, que se encuentre dentro del intervalo formado por los dos números dados por el usuario (ambos extremos también incluidos)."
   ]
  },
  {
   "cell_type": "code",
   "execution_count": 1,
   "metadata": {},
   "outputs": [],
   "source": [
    "\n",
    "    a= int(input(\"Introduce el extremo izquierdo del intervalo: \"))\n",
    "    b= int(input(\"Introduce el extremo derecho del intervalo: \"))\n",
    "\n",
    "    n=a\n",
    "    while n >=b:\n",
    "        if n % 2 ==0 and n % 3 == 0 and n % 5 == 0:\n",
    "            print(n)\n",
    "            break\n",
    "        n += 1\n",
    "\n",
    "    if n==b +1:\n",
    "        print(\"Dentro de intervalo que has proporcionado, no hay numeros enteros divisibles entre 2,3,5\")\n"
   ]
  }
 ],
 "metadata": {
  "kernelspec": {
   "display_name": "Python 3.10.5 ('env': venv)",
   "language": "python",
   "name": "python3"
  },
  "language_info": {
   "codemirror_mode": {
    "name": "ipython",
    "version": 3
   },
   "file_extension": ".py",
   "mimetype": "text/x-python",
   "name": "python",
   "nbconvert_exporter": "python",
   "pygments_lexer": "ipython3",
   "version": "3.10.5"
  },
  "orig_nbformat": 4,
  "vscode": {
   "interpreter": {
    "hash": "8fd430bcf6ca11b83eaddffb4c0add012d1c2cd0fe917792e929898843cc721e"
   }
  }
 },
 "nbformat": 4,
 "nbformat_minor": 2
}
