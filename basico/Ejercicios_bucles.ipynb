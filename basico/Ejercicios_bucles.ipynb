{
 "cells": [
  {
   "cell_type": "markdown",
   "metadata": {},
   "source": [
    " Con un bucle while, dado un string vamos a recorrer una frase y contar el numero de vocales que tiene"
   ]
  },
  {
   "cell_type": "code",
   "execution_count": 4,
   "metadata": {},
   "outputs": [
    {
     "name": "stdout",
     "output_type": "stream",
     "text": [
      "En total hay 8 vocales\n"
     ]
    }
   ],
   "source": [
    "frase= \"La vaca hace muuu\"\n",
    "\n",
    "i = 0\n",
    "count= 0\n",
    "while i < len(frase):\n",
    "    if frase[i]== 'a' or frase[i]=='e' or frase[i]== 'i' or frase[i] == 'o' or frase[i] =='u':\n",
    "        count +=1\n",
    "    i +=1\n",
    "print(\"En total hay\", count, \"vocales\")"
   ]
  },
  {
   "cell_type": "markdown",
   "metadata": {},
   "source": [
    "La sucesión de Fibonacci es una sucesión infinita que se caracteriza porque cada término es la suma de los dos anteriores. Algunos de sus términos son 1, 1, 2, 3, 5, 8, 13...\n",
    "\n",
    "Supongamos que queremos que se nos impriman los 20 primeros términos de esta serie. Por tanto, necesitaremos por un lado los términos de la serie y, por otro, los índices que ocupan."
   ]
  },
  {
   "cell_type": "code",
   "execution_count": null,
   "metadata": {},
   "outputs": [],
   "source": [
    "fibo_ant= 1 # numero anterior\n",
    "fibo =1 #numero actual\n",
    "idx= 3# como ya tenemos los dos primeros terminos, empezamos con el indice 3 que tine un valor de 3\n",
    "\n",
    "print(\"El termino {} ocupa la posicion {}\".format(fibo_ant, 1))\n",
    "print(\"El termino {} ocupa la posicion {}\".format(fibo, 2))\n",
    "\n",
    "while fibo <=200000:#Establecemos un valor y elijo 2000000\n",
    "    "
   ]
  }
 ],
 "metadata": {
  "kernelspec": {
   "display_name": "Python 3.10.5 ('env': venv)",
   "language": "python",
   "name": "python3"
  },
  "language_info": {
   "codemirror_mode": {
    "name": "ipython",
    "version": 3
   },
   "file_extension": ".py",
   "mimetype": "text/x-python",
   "name": "python",
   "nbconvert_exporter": "python",
   "pygments_lexer": "ipython3",
   "version": "3.10.5"
  },
  "orig_nbformat": 4,
  "vscode": {
   "interpreter": {
    "hash": "8fd430bcf6ca11b83eaddffb4c0add012d1c2cd0fe917792e929898843cc721e"
   }
  }
 },
 "nbformat": 4,
 "nbformat_minor": 2
}
